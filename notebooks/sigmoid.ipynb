{
 "cells": [
  {
   "cell_type": "markdown",
   "metadata": {
    "Collapsed": "false"
   },
   "source": [
    "# Sigmoid function\n",
    "How does the weight and bias changes the output of linear weights + sigmoid activation function's output?\n",
    "- This tool is designed to accompany the [chapter](http://neuralnetworksanddeeplearning.com/chap4.html) on NN as the universial function approximator\n"
   ]
  },
  {
   "cell_type": "markdown",
   "metadata": {
    "Collapsed": "false"
   },
   "source": [
    "## Load libraries"
   ]
  },
  {
   "cell_type": "code",
   "execution_count": null,
   "metadata": {
    "Collapsed": "false"
   },
   "outputs": [],
   "source": [
    "%load_ext autoreload\n",
    "%autoreload 2\n",
    "\n",
    "import os, sys, time\n",
    "import numpy as np\n",
    "import pandas as pd\n",
    "    \n",
    "from pathlib import Path #we'll import Path object with `.ls` method added later\n",
    "from pprint import pprint as pp\n",
    "\n",
    "import pdb\n",
    "\n",
    "import matplotlib.pyplot as plt\n",
    "%matplotlib inline\n",
    "\n",
    "# ignore warnings\n",
    "import warnings\n",
    "if not sys.warnoptions:\n",
    "    warnings.simplefilter('ignore')\n",
    "    \n",
    "# Don't generate bytecode\n",
    "sys.dont_write_bytecode = True"
   ]
  },
  {
   "cell_type": "code",
   "execution_count": null,
   "metadata": {
    "Collapsed": "false"
   },
   "outputs": [],
   "source": [
    "import holoviews as hv\n",
    "import xarray as xr\n",
    "\n",
    "from holoviews import opts\n",
    "from holoviews.operation.datashader import datashade, shade, dynspread, rasterize\n",
    "from holoviews.streams import Stream, param\n",
    "from holoviews import streams\n",
    "\n",
    "hv.notebook_extension('bokeh')\n",
    "hv.Dimension.type_formatters[np.datetime64] = '%Y-%m-%d'\n",
    "\n",
    "# Dashboards\n",
    "import param as pm, panel as pn\n",
    "pn.extension()"
   ]
  },
  {
   "cell_type": "code",
   "execution_count": null,
   "metadata": {
    "Collapsed": "false"
   },
   "outputs": [],
   "source": [
    "# Geoviews visualization default options\n",
    "H,W, = 250,250\n",
    "opts.defaults(\n",
    "    opts.RGB(height=H, width=W, tools=['hover'], active_tools=['wheel_zoom']),\n",
    "    opts.Image(height=H, width=W, tools=['hover'], active_tools=['wheel_zoom'], framewise=True),#axiswise=True ),\n",
    "    opts.Points( tools=['hover'], active_tools=['wheel_zoom']),\n",
    "    opts.Curve( tools=['hover'], active_tools=['wheel_zoom'], padding=0.1),\n",
    "\n",
    ")"
   ]
  },
  {
   "cell_type": "markdown",
   "metadata": {
    "Collapsed": "false"
   },
   "source": [
    "## Set up additional library path"
   ]
  },
  {
   "cell_type": "code",
   "execution_count": null,
   "metadata": {
    "Collapsed": "false"
   },
   "outputs": [],
   "source": [
    "# Add the utils directory to the search path\n",
    "SP_ROOT = Path.home()/'Playground/ContextNet'\n",
    "SP_LIBS = SP_ROOT/'scripts' # to be changed to 'src'\n",
    "# LIBS_DIR = Path('../src').absolute()\n",
    "DIRS_TO_ADD = [SP_LIBS]#, LIBS_DIR]\n",
    "for p in DIRS_TO_ADD:\n",
    "    assert p.exists()\n",
    "    \n",
    "    if str(p) not in sys.path:\n",
    "        sys.path.insert(0, str(p))\n",
    "        print(f\"Added to sys.path: {p}\")\n",
    "\n",
    "# pp(sys.path)\n",
    "    "
   ]
  },
  {
   "cell_type": "code",
   "execution_count": null,
   "metadata": {
    "Collapsed": "false"
   },
   "outputs": [],
   "source": [
    "from output_helpers import print_mro as mro, nprint, Path\n",
    "import ipywidgets\n",
    "from ipywidgets import interact\n",
    "def f(x):\n",
    "    return x\n",
    "\n",
    "interact(f, x=10)"
   ]
  },
  {
   "cell_type": "markdown",
   "metadata": {
    "Collapsed": "false"
   },
   "source": [
    "## Sigmoid"
   ]
  },
  {
   "cell_type": "markdown",
   "metadata": {
    "Collapsed": "false"
   },
   "source": [
    "We are interested in the case when the input $x \\in [-1,1]$"
   ]
  },
  {
   "cell_type": "markdown",
   "metadata": {
    "Collapsed": "false"
   },
   "source": [
    "$\\sigma(z) = \\frac{1}{1+e^{-z}}$"
   ]
  },
  {
   "cell_type": "markdown",
   "metadata": {
    "Collapsed": "false"
   },
   "source": [
    "![sigmoid](data:image/png;base64,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)"
   ]
  },
  {
   "cell_type": "code",
   "execution_count": null,
   "metadata": {
    "Collapsed": "false"
   },
   "outputs": [],
   "source": [
    "from collections import defaultdict"
   ]
  },
  {
   "cell_type": "code",
   "execution_count": null,
   "metadata": {
    "Collapsed": "false"
   },
   "outputs": [],
   "source": [
    "style_dashline = dict(color='black', \n",
    "                       line_width=1, \n",
    "                       line_dash='dashed')\n",
    "style_plot = dict(width=1000, \n",
    "                  height=500, \n",
    "                  padding=0., \n",
    "                  ylim=(-.3,1.3))\n",
    "\n",
    "class Sigmoid(pm.Parameterized):\n",
    "    weight = pm.Number(default=1.0, softbounds=(-10,10), step=0.1, doc='Weight')\n",
    "    bias = pm.Number(default=0.0, softbounds = (-10,10), doc='Bias')\n",
    "    xrange = pm.Range(default=(-2,2), bounds=(-10,10), doc='Range of x values')\n",
    "    n_points = pm.Integer(default=100, softbounds=(100, 1000), doc='Number of points on xaxis')\n",
    "    \n",
    "    @pm.depends('xrange', 'n_points')\n",
    "    def __init__(self, **params):\n",
    "        super().__init__(**params)\n",
    "#         self.xs, self.ys, self.plot = [], [], None\n",
    "\n",
    "        self.count = defaultdict(int)\n",
    "        self._update_xs()\n",
    "        self._update_plot()\n",
    "    \n",
    "    @pm.depends('xrange', 'n_points', watch=True)\n",
    "    def _update_xs(self):\n",
    "        self.xs = np.linspace(*self.xrange, self.n_points)\n",
    "        self._update_plot()\n",
    "        self.count['update_xs'] += 1\n",
    "        \n",
    "    @pm.depends('weight', 'bias', watch=True)\n",
    "    def _update_plot(self):\n",
    "        zs =self.xs * self.weight + self.bias\n",
    "        self.ys = 1/(1+np.exp(-zs))\n",
    "        self.plot = hv.Curve((self.xs, self.ys)) # self.get_dmap()\n",
    "        self.count['update_plot'] += 1\n",
    "        return self.plot.opts(**style_plot) * hv.VLine(0).opts(**style_dashline) * hv.HLine(0).opts(**style_dashline) * hv.HLine(1).opts(**style_dashline)\n",
    "\n",
    "    def get_view(self):\n",
    "        return pn.Row(pn.panel(self.param), \n",
    "                      pn.panel(self._update_plot))"
   ]
  },
  {
   "cell_type": "code",
   "execution_count": null,
   "metadata": {
    "Collapsed": "false"
   },
   "outputs": [],
   "source": [
    "ex = Sigmoid()"
   ]
  },
  {
   "cell_type": "code",
   "execution_count": null,
   "metadata": {
    "Collapsed": "false"
   },
   "outputs": [],
   "source": [
    "ex.get_view()\n"
   ]
  },
  {
   "cell_type": "code",
   "execution_count": null,
   "metadata": {
    "Collapsed": "false"
   },
   "outputs": [],
   "source": []
  },
  {
   "cell_type": "code",
   "execution_count": null,
   "metadata": {
    "Collapsed": "false"
   },
   "outputs": [],
   "source": []
  }
 ],
 "metadata": {
  "kernelspec": {
   "display_name": "Python [conda env:earthml]",
   "language": "python",
   "name": "conda-env-earthml-py"
  },
  "language_info": {
   "codemirror_mode": {
    "name": "ipython",
    "version": 3
   },
   "file_extension": ".py",
   "mimetype": "text/x-python",
   "name": "python",
   "nbconvert_exporter": "python",
   "pygments_lexer": "ipython3",
   "version": "3.7.3"
  }
 },
 "nbformat": 4,
 "nbformat_minor": 4
}
