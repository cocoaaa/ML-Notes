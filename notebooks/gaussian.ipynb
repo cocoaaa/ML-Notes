{
 "cells": [
  {
   "cell_type": "markdown",
   "metadata": {
    "Collapsed": "false"
   },
   "source": [
    "# Gaussian "
   ]
  },
  {
   "cell_type": "markdown",
   "metadata": {
    "Collapsed": "false"
   },
   "source": [
    "Modified: Oct 12, 2019\n",
    "\n",
    "This is a small note on how I think of Gaussian distribution, $N(\\mu, \\sigma)$"
   ]
  },
  {
   "cell_type": "markdown",
   "metadata": {
    "Collapsed": "true"
   },
   "source": [
    "## Load libraries"
   ]
  },
  {
   "cell_type": "code",
   "execution_count": null,
   "metadata": {
    "Collapsed": "false"
   },
   "outputs": [],
   "source": [
    "%load_ext autoreload\n",
    "%autoreload 2\n",
    "\n",
    "import os, sys, time\n",
    "import numpy as np\n",
    "import pandas as pd\n",
    "    \n",
    "from pathlib import Path #we'll import Path object with `.ls` method added later\n",
    "from pprint import pprint as pp\n",
    "\n",
    "import pdb\n",
    "\n",
    "import matplotlib.pyplot as plt\n",
    "%matplotlib inline\n",
    "\n",
    "# ignore warnings\n",
    "import warnings\n",
    "if not sys.warnoptions:\n",
    "    warnings.simplefilter('ignore')\n",
    "    \n",
    "# Don't generate bytecode\n",
    "sys.dont_write_bytecode = True"
   ]
  },
  {
   "cell_type": "code",
   "execution_count": null,
   "metadata": {
    "Collapsed": "false"
   },
   "outputs": [],
   "source": [
    "import holoviews as hv\n",
    "import xarray as xr\n",
    "\n",
    "from holoviews import opts\n",
    "from holoviews.operation.datashader import datashade, shade, dynspread, rasterize\n",
    "from holoviews.streams import Stream, param\n",
    "from holoviews import streams\n",
    "import geoviews as gv\n",
    "import geoviews.feature as gf\n",
    "from geoviews import tile_sources as gvts\n",
    "\n",
    "\n",
    "# import geopandas as gpd\n",
    "import cartopy.crs as ccrs\n",
    "import cartopy.feature as cf\n",
    "\n",
    "hv.notebook_extension('bokeh')\n",
    "hv.Dimension.type_formatters[np.datetime64] = '%Y-%m-%d'\n",
    "\n",
    "# Dashboards\n",
    "import param as pm, panel as pn\n",
    "pn.extension()"
   ]
  },
  {
   "cell_type": "code",
   "execution_count": null,
   "metadata": {
    "Collapsed": "false"
   },
   "outputs": [],
   "source": [
    "# Geoviews visualization default options\n",
    "H,W, = 250,250\n",
    "opts.defaults(\n",
    "    opts.RGB(height=H, width=W, tools=['hover'], active_tools=['wheel_zoom']),\n",
    "    opts.Image(height=H, width=W, tools=['hover'], active_tools=['wheel_zoom'], framewise=True),#axiswise=True ),\n",
    "    opts.Points( tools=['hover'], active_tools=['wheel_zoom']),\n",
    "    opts.Curve( tools=['hover'], active_tools=['wheel_zoom'], padding=0.1),\n",
    "\n",
    ")"
   ]
  },
  {
   "cell_type": "markdown",
   "metadata": {
    "Collapsed": "true"
   },
   "source": [
    "## Set up additional library path"
   ]
  },
  {
   "cell_type": "code",
   "execution_count": null,
   "metadata": {
    "Collapsed": "false"
   },
   "outputs": [],
   "source": [
    "# Add the utils directory to the search path\n",
    "SP_ROOT = Path.home()/'Playground/ContextNet'\n",
    "SP_LIBS = SP_ROOT/'scripts' # to be changed to 'src'\n",
    "# LIBS_DIR = Path('../src').absolute()\n",
    "DIRS_TO_ADD = [SP_LIBS]#, LIBS_DIR]\n",
    "for p in DIRS_TO_ADD:\n",
    "    assert p.exists()\n",
    "    \n",
    "    if str(p) not in sys.path:\n",
    "        sys.path.insert(0, str(p))\n",
    "        print(f\"Added to sys.path: {p}\")\n",
    "\n",
    "# pp(sys.path)\n",
    "    "
   ]
  },
  {
   "cell_type": "code",
   "execution_count": null,
   "metadata": {
    "Collapsed": "false"
   },
   "outputs": [],
   "source": [
    "from output_helpers import print_mro as mro, nprint, Path\n",
    "import SpacenetPath as spp\n",
    "import spacenet_globals as spg\n",
    "# from output_helpers import Path #.ls method is added to Path class"
   ]
  },
  {
   "cell_type": "code",
   "execution_count": null,
   "metadata": {
    "Collapsed": "false"
   },
   "outputs": [],
   "source": [
    "import osmnx as ox\n",
    "import rasterio as rio\n",
    "from rasterio.plot import reshape_as_image\n",
    "import skimage as ski"
   ]
  },
  {
   "cell_type": "markdown",
   "metadata": {
    "Collapsed": "true"
   },
   "source": [
    "## 1. Intuition"
   ]
  },
  {
   "cell_type": "markdown",
   "metadata": {
    "Collapsed": "false"
   },
   "source": [
    "The probability density function, $f(x \\mid \\mu, \\sigma)$, of the normal distribution $N(\\mu, \\sigma)$ is:\n",
    "\n",
    "$$\n",
    "f(x \\mid \\mu, \\sigma) = \\frac{1}{Z} \\text{exp} [-\\frac{1}{2}(\\frac{x-\\mu}{\\sigma})^{2}]\n",
    "$$"
   ]
  },
  {
   "cell_type": "markdown",
   "metadata": {
    "Collapsed": "false"
   },
   "source": [
    "where $Z = \\sqrt{2\\pi\\sigma^{2}}$ is the normalization factor that makes $f$ a distribution that sums up to $1$.\n",
    "\n",
    "In this form, the purpose of $\\sigma$ and $\\mu$ becomes more explicit. \n",
    "1. $(x-mu)$: we view a difference (vector) between $\\mu$ and $x$. Let $d := x-\\mu$\n",
    "2. $ \\frac{\\lVert d \\rVert}{\\sigma}$: How big is the size of this difference vector in $\\sigma$ units?\n",
    "That is, how many $\\sigma$-sized steps do we need to take to get to $x$ from $\\mu$?\n"
   ]
  },
  {
   "cell_type": "markdown",
   "metadata": {
    "Collapsed": "false"
   },
   "source": [
    "Now, let's say, we have \"normalized\" the length of the difference vector (between $\\mu$ and a given $x$) by $\\sigma$. \n",
    "Let's call this \"normalized distance\" as $d_{\\text{normed}}$. Then, $f$ can be expressed as:\n",
    "\n",
    "$$\n",
    "f(x \\mid \\mu, \\sigma) = f(d_{\\text{normed}}) \\propto \\text{exp} [-\\frac{1}{2} d_{\\text{normed}}^{2}]\n",
    "$$\n",
    "\n",
    "<img src=\"assets/gaussian.png\" alt=\"gaussian\" width=\"800\"/>\n"
   ]
  },
  {
   "cell_type": "markdown",
   "metadata": {
    "Collapsed": "true"
   },
   "source": [
    "## 2. Visualization "
   ]
  },
  {
   "cell_type": "markdown",
   "metadata": {
    "Collapsed": "false"
   },
   "source": [
    "Let's see what this function looks like in 2Dim and 3Dim space. \n",
    "\n",
    "- First in 2Dim\n",
    "\n",
    "$f(d) = exp[-\\frac{1}{2} d^2]$\n",
    "\n",
    "Or, \n",
    "\n",
    "$$f(d) = exp[-\\frac{1}{2} d^2]$$\n",
    "where the difference vector, $\\vec{d}$, is:\n",
    "\n",
    "$$\\vec{d} = \\vec{x} - \\vec{\\mu}$$ \n",
    "\n",
    "and the normalized length of the difference vector, $d_\\text{norm}$, is:\n",
    "$$d_\\text{norm} = \\frac{\\lVert \\vec{d}\\rVert} {\\sigma}$$"
   ]
  },
  {
   "cell_type": "markdown",
   "metadata": {
    "Collapsed": "false"
   },
   "source": [
    "Using holoviews for visualization..."
   ]
  },
  {
   "cell_type": "code",
   "execution_count": null,
   "metadata": {
    "Collapsed": "false"
   },
   "outputs": [],
   "source": [
    "def draw_gaussian_2d(xmin=-5, xmax=5, n_points=100):\n",
    "    xs = np.linspace(xmin, xmax, num=n_points)\n",
    "    ys = np.exp(-0.5*xs**2)\n",
    "    overlay = (\n",
    "        hv.Curve((xs,ys)) \n",
    "        * hv.VLine(0).opts(color='black', line_width=1)\n",
    "        * hv.VLine(-4).opts(color='red', line_width=1, line_dash='dashed')\n",
    "        * hv.VLine(4).opts(color='red', line_width=1, line_dash='dashed')\n",
    "    )\n",
    "    return overlay"
   ]
  },
  {
   "cell_type": "code",
   "execution_count": null,
   "metadata": {
    "Collapsed": "false"
   },
   "outputs": [],
   "source": [
    "%%opts Curve [width=600, show_grid=True] \n",
    "draw_gaussian_2d()"
   ]
  },
  {
   "cell_type": "markdown",
   "metadata": {
    "Collapsed": "false"
   },
   "source": [
    "- 3Dim\n",
    "$$\n",
    "f(\\mathbf{x} \\mid \\mathbf{\\mu}, \\Sigma)= \\frac{1}{Z} \\text{exp}[-\\frac{1}{2} (\\mathbf{x}-\\mathbf{\\mu} )^{T} \\Sigma^{-1} (\\mathbf{x}-\\mathbf{\\mu})]\n",
    "$$\n",
    "\n",
    "where \n",
    "\n",
    "$$\n",
    "Z = \\sqrt{(2\\pi)^{m} \\det(\\Sigma)}\n",
    "$$\n",
    "for $\\mathbf{x} \\in R^{m}$"
   ]
  },
  {
   "cell_type": "code",
   "execution_count": null,
   "metadata": {
    "Collapsed": "false"
   },
   "outputs": [],
   "source": [
    "def multivariate_gaussian(xs, mu, cov):\n",
    "    \"\"\"\n",
    "    Vectorized version of multivariate_gaussian pmf\n",
    "    This has a computational advantage of computing determinate of the covariance \n",
    "    matrix only once for multiple x points, in addition to a vectorized linalg.solve\n",
    "    operation\n",
    "    \n",
    "    Args:\n",
    "    - xs (np.array): a 2Dim array whose column is a vector of indivisual x in R^m \n",
    "    to compute the gaussian. For example, if x is a two dimensional vector, \n",
    "    `xs.shape` should be (2, num_xs)\n",
    "    \n",
    "    - mu (np.array): 1 dim array for a mu vector\n",
    "    - cov (np.array): m by m matrix where m = dimension of x (ie. xs.shape[0])\n",
    "    \"\"\"\n",
    "    assert xs.ndim == 2, \"xs must be a two dimensional collection of column vectors\"\n",
    "    assert mu.ndim == 2, \"mu must be two dimensional\"\n",
    "    assert mu.shape[1] == 1, \"mu must be a column vector, ie.shape of (m,1) where m is the data dimension\"\n",
    "\n",
    "    det = np.linalg.det(cov)\n",
    "    xs_m = xs - mu\n",
    "#     print(xs-mu)\n",
    "#     print(xs_m)\n",
    "    Z = np.sqrt(2*np.pi*det)\n",
    "#     energy = (x_m.T).dot(np.linalg.inv(cov)).dot(x_m)\n",
    "    xsTcinv =  (np.linalg.solve(cov, xs_m)).T\n",
    "#     print('xsTcinv shape: ', xsTcinv.shape)\n",
    "    xs_m = xs_m.T\n",
    "#     print('xs_m transposed: ', xs_m.shape)\n",
    "    energies = np.array([xTcinv.dot(x_m) for (xTcinv,x_m) in zip(xsTcinv, xs_m)])\n",
    "    return np.exp(-.5*energies)/Z\n",
    "    "
   ]
  },
  {
   "cell_type": "code",
   "execution_count": null,
   "metadata": {
    "Collapsed": "false"
   },
   "outputs": [],
   "source": [
    "#Simple tests\n",
    "# x = np.array([0,0]).reshape((-1,1))\n",
    "x = np.array([[0,0], [1,0]]).T\n",
    "\n",
    "mu = np.array([0,0]).reshape((-1,1)) #column vector\n",
    "cov = np.array([[1,0],[0,1]])\n",
    "multivariate_gaussian(x, mu, cov)"
   ]
  },
  {
   "cell_type": "code",
   "execution_count": null,
   "metadata": {
    "Collapsed": "false"
   },
   "outputs": [],
   "source": [
    "def draw_gaussian_3d(xmin, xmax, nx, ymin, ymax, ny, mu, cov):\n",
    "    xx, yy = np.meshgrid(np.linspace(xmin, xmax, nx), np.linspace(ymin, ymax, ny))\n",
    "    points = np.array([ list(xx.flat), list(yy.flat)]) # each column contains a point(ie. (x1,x2))\n",
    "    heights = multivariate_gaussian(points, mu, cov)\n",
    "    surface = hv.Surface(heights.reshape((nx, ny)), bounds=(xmin, ymin, xmax, ymax)) #slow\n",
    "#     surface = hv.Surface((xx.flat, yy.flat, heights)) #slow\n",
    "\n",
    "#     surface = hv.TriSurface((xx.flat, yy.flat, heights)) #with plotly backend\n",
    "\n",
    "    \n",
    "    return surface"
   ]
  },
  {
   "cell_type": "code",
   "execution_count": null,
   "metadata": {
    "Collapsed": "false"
   },
   "outputs": [],
   "source": [
    "hv.extension('plotly') # currently bokeh backend doesn't support 3D plot with holoviews objects\n",
    "\n",
    "xmin, xmax, nx = -5, 5, 50\n",
    "ymin, ymax, ny = -5, 5, 50\n",
    "\n",
    "mu = np.array([0,0]).reshape((-1,1)) #column vector with two dims\n",
    "cov0 = np.array([[1,0],[0,1]])\n",
    "cov1 = np.array([[1,0], [0,2]])\n",
    "cov2 = np.array([[2,0],[0,2]])\n",
    "\n",
    "surf0 = draw_gaussian_3d(xmin, xmax, nx, ymin, ymax, ny, mu, cov0)\n",
    "surf1 = draw_gaussian_3d(xmin, xmax, nx, ymin, ymax, ny, mu, cov1)\n",
    "surf2 = draw_gaussian_3d(xmin, xmax, nx, ymin, ymax, ny, mu, cov2)"
   ]
  },
  {
   "cell_type": "code",
   "execution_count": null,
   "metadata": {
    "Collapsed": "false"
   },
   "outputs": [],
   "source": [
    "%%opts TriSurface [colorbar=True, width=400, height=400] (alpha=0.5) Surface [colorbar=True, width=400, height=400] (alpha=0.5)\n",
    "\n",
    "(\n",
    "    surf0.relabel(group='cov:[[1,0],[0,1]]').opts(cmap='Blues')\n",
    "    * surf1.relabel(group='cov:[[1,0],[0,2]]').opts(cmap='Reds')\n",
    "    * surf2.relabel(group='cov:[[2,0],[0,2]]')\n",
    ")"
   ]
  },
  {
   "cell_type": "code",
   "execution_count": null,
   "metadata": {
    "Collapsed": "false"
   },
   "outputs": [],
   "source": [
    "def draw_g3d(mu_x, mu_y, sig_x, sig_y, sig_xy):\n",
    "    mu = np.array([mu_x, mu_y]).reshape((-1,1))\n",
    "    cov = np.array([[sig_x**2,sig_xy],\n",
    "                    [sig_xy, sig_y**2]])\n",
    "    return draw_gaussian_3d(xmin, xmax, nx,\n",
    "                            ymin, ymax, ny,\n",
    "                            mu, cov)"
   ]
  },
  {
   "cell_type": "code",
   "execution_count": null,
   "metadata": {
    "Collapsed": "false"
   },
   "outputs": [],
   "source": [
    "dmap_3d = hv.DynamicMap(draw_g3d, kdims=['mu_x', 'mu_y', 'sig_x', 'sig_y', 'sig_xy'])\n"
   ]
  },
  {
   "cell_type": "code",
   "execution_count": null,
   "metadata": {
    "Collapsed": "false"
   },
   "outputs": [],
   "source": [
    "%%opts Surface [colorbar=True, width=600, height=600] (alpha=0.9)\n",
    "\n",
    "dmap_3d.redim.values(mu_x=range(-2,2),\n",
    "                     mu_y=range(-2,2), \n",
    "                     sig_x=np.linspace(0.3, 3.0, 10),\n",
    "                     sig_y=np.linspace(0.3, 3.0, 10), \n",
    "                     sig_xy=[0.])"
   ]
  },
  {
   "cell_type": "markdown",
   "metadata": {
    "Collapsed": "false"
   },
   "source": [
    "Demo of my 2Dim gaussian animation: [here](http://recordit.co/2D2kJ8OM6T)"
   ]
  },
  {
   "cell_type": "markdown",
   "metadata": {
    "Collapsed": "false"
   },
   "source": [
    "## Application: Orientation-Energy based contour detection \n",
    "### Elongated Gaussian \n",
    "\n",
    "New parameter $\\alpha$ is introduced to relate $\\sigma_{x}$ and $\\sigma_{y}$ s.t. $\\sigma_{x} = \\alpha \\sigma_{y}$.  \n",
    "We will only consider an axis-aligned gaussian distribution(ie. $\\sigma_{xy} = \\sigma_{ys} = 0$, or equivalently, $\\Sigma$ is a diagonal matrix)\n"
   ]
  },
  {
   "cell_type": "code",
   "execution_count": null,
   "metadata": {
    "Collapsed": "false"
   },
   "outputs": [],
   "source": [
    "def draw_elongated_gauss_2d(mu_x, mu_y, sig_y, alpha):\n",
    "    \"\"\"\n",
    "    mu_x (float)\n",
    "    mu_y (float)\n",
    "    sig_y (float): standard deviation in Y\n",
    "    alpha (float): controls the ratio between sig_x and sig_y st. sigma_x = alpha * sigma_y\n",
    "    \"\"\"\n",
    "    \n",
    "    mu = np.array([mu_x, mu_y]).reshape((-1,1))\n",
    "    sig_x = alpha * sig_y\n",
    "    cov = np.array([[sig_x**2, 0],\n",
    "                    [0, sig_y**2]])\n",
    "    return draw_gaussian_3d(xmin, xmax, nx,\n",
    "                            ymin, ymax, ny,\n",
    "                            mu, cov)"
   ]
  },
  {
   "cell_type": "code",
   "execution_count": null,
   "metadata": {
    "Collapsed": "false"
   },
   "outputs": [],
   "source": [
    "dmap_elong = hv.DynamicMap(draw_elongated_gauss_2d, \n",
    "                           kdims=['mu_x', 'mu_y', 'sig_y', 'alpha']\n",
    "                          )"
   ]
  },
  {
   "cell_type": "code",
   "execution_count": null,
   "metadata": {
    "Collapsed": "false"
   },
   "outputs": [],
   "source": [
    "%%opts Surface [colorbar=True, width=600, height=600] (alpha=0.9)\n",
    "\n",
    "dmap_elong.redim.values(mu_x=range(-2,2),\n",
    "                        mu_y=range(-2,2), \n",
    "                        sig_y=[0.3, 1.0, 1.5, 3.0, 5.0], \n",
    "                        alpha=np.linspace(0.5, 2.0, 10))"
   ]
  },
  {
   "cell_type": "markdown",
   "metadata": {
    "Collapsed": "false"
   },
   "source": [
    "### Hilbert transform\n",
    "- [Richard Gao's post](https://tinyurl.com/y4grv4ns)\n",
    "- [Application in Medical Imaging](https://tinyurl.com/y4grv4ns)\n",
    "- [Useful resources to read](https://tinyurl.com/y3dcd5tq)\n",
    "- [Paper: An Approach to the 2D Hilbert Transform for Image Processing Applications\n",
    "](https://tinyurl.com/yx8wak3s)\n",
    "- Pyhht [doc](https://readthedocs.org/projects/pyhht/downloads/pdf/dev/)"
   ]
  },
  {
   "cell_type": "code",
   "execution_count": null,
   "metadata": {
    "Collapsed": "false"
   },
   "outputs": [],
   "source": [
    "import scipy.signal as ss\n",
    "from scipy import fftpack"
   ]
  },
  {
   "cell_type": "markdown",
   "metadata": {
    "Collapsed": "false"
   },
   "source": [
    "### Fourier Transform review\n",
    "- [scipy tutorial on denoising using dft](https://tinyurl.com/y2m7t9ze)\n",
    "- [opencv tutorial](https://tinyurl.com/y2ho27sl)\n",
    "- [allsignalprocessing tutorial](https://tinyurl.com/y3rtznv2)\n",
    "- Porf. Fred Hamprecht's [courses](https://tinyurl.com/y4dkk8s8): He has other awesome lectures such as Rattern Recognition, ML for CV, Image Analysis. He uses OneNote for his presentations:)\n",
    "- [Spatial and Frequency domains - Roger Bourne](https://tinyurl.com/y2xyvscr)"
   ]
  },
  {
   "cell_type": "code",
   "execution_count": null,
   "metadata": {
    "Collapsed": "false"
   },
   "outputs": [],
   "source": [
    "import skimage as ski"
   ]
  },
  {
   "cell_type": "code",
   "execution_count": null,
   "metadata": {
    "Collapsed": "false"
   },
   "outputs": [],
   "source": [
    "coin = (ski.data.coins()/255.).astype(np.float32)\n",
    "plt.imshow(coin)"
   ]
  },
  {
   "cell_type": "code",
   "execution_count": null,
   "metadata": {
    "Collapsed": "false"
   },
   "outputs": [],
   "source": [
    "coin_fft = fftpack.fft2(coin)"
   ]
  },
  {
   "cell_type": "code",
   "execution_count": null,
   "metadata": {
    "Collapsed": "false"
   },
   "outputs": [],
   "source": [
    "# Show the results\n",
    "# A logarithmic colormap\n",
    "from matplotlib.colors import LogNorm\n",
    "\n",
    "def plot_spectrum(im_fft):\n",
    "    plt.imshow(np.abs(im_fft), norm=LogNorm(vmin=5), cmap='gray')\n",
    "    plt.colorbar()\n",
    "\n",
    "plt.figure()\n",
    "# plot_spectrum(coin_fft)\n",
    "plot_spectrum(np.fft.fftshift(coin_fft))\n",
    "\n",
    "plt.title('Fourier transform')"
   ]
  },
  {
   "cell_type": "code",
   "execution_count": null,
   "metadata": {
    "Collapsed": "false"
   },
   "outputs": [],
   "source": [
    "import cv2"
   ]
  },
  {
   "cell_type": "code",
   "execution_count": null,
   "metadata": {
    "Collapsed": "false"
   },
   "outputs": [],
   "source": [
    "cv_dft = cv2.dft(coin, flags=cv2.DFT_COMPLEX_OUTPUT)\n",
    "dft_shift= np.fft.fftshift(cv_dft)"
   ]
  },
  {
   "cell_type": "code",
   "execution_count": null,
   "metadata": {
    "Collapsed": "false"
   },
   "outputs": [],
   "source": [
    "mag_spectrum = cv2.magnitude(dft_shift[:,:,0], dft_shift[:,:,1])"
   ]
  },
  {
   "cell_type": "code",
   "execution_count": null,
   "metadata": {
    "Collapsed": "false"
   },
   "outputs": [],
   "source": [
    "plt.imshow(mag_spectrum, norm=LogNorm(vmin=5), cmap='gray')\n",
    "plt.colorbar();"
   ]
  },
  {
   "cell_type": "markdown",
   "metadata": {
    "Collapsed": "false"
   },
   "source": [
    "Why do we want to shift (`np.fft.fftshift`) the magnitude plot of `np.fft` result?\n",
    "![](../assets/2d-dft-mag-shifted.png)"
   ]
  },
  {
   "cell_type": "markdown",
   "metadata": {
    "Collapsed": "false"
   },
   "source": [
    "---\n",
    "Back to Hilbert transform\n",
    "### 2Dim Hilbert transform\n",
    "Conventional implementation by Marple\n"
   ]
  },
  {
   "cell_type": "code",
   "execution_count": null,
   "metadata": {
    "Collapsed": "false"
   },
   "outputs": [],
   "source": [
    "def "
   ]
  },
  {
   "cell_type": "markdown",
   "metadata": {
    "Collapsed": "false"
   },
   "source": []
  },
  {
   "cell_type": "code",
   "execution_count": null,
   "metadata": {
    "Collapsed": "false"
   },
   "outputs": [],
   "source": []
  },
  {
   "cell_type": "code",
   "execution_count": null,
   "metadata": {
    "Collapsed": "false"
   },
   "outputs": [],
   "source": []
  },
  {
   "cell_type": "code",
   "execution_count": null,
   "metadata": {
    "Collapsed": "false"
   },
   "outputs": [],
   "source": []
  },
  {
   "cell_type": "code",
   "execution_count": null,
   "metadata": {
    "Collapsed": "false"
   },
   "outputs": [],
   "source": []
  },
  {
   "cell_type": "code",
   "execution_count": null,
   "metadata": {
    "Collapsed": "false"
   },
   "outputs": [],
   "source": []
  },
  {
   "cell_type": "code",
   "execution_count": null,
   "metadata": {
    "Collapsed": "false"
   },
   "outputs": [],
   "source": []
  },
  {
   "cell_type": "code",
   "execution_count": null,
   "metadata": {
    "Collapsed": "false"
   },
   "outputs": [],
   "source": []
  },
  {
   "cell_type": "code",
   "execution_count": null,
   "metadata": {
    "Collapsed": "false"
   },
   "outputs": [],
   "source": []
  },
  {
   "cell_type": "markdown",
   "metadata": {
    "Collapsed": "false"
   },
   "source": [
    "---\n",
    "## Test Images for Signal Processing"
   ]
  },
  {
   "cell_type": "markdown",
   "metadata": {
    "Collapsed": "false"
   },
   "source": [
    "Visual grating patterns are good test images for signal processing algorithms.  They are often used in psychology/cogsci experiements. I found some useful libraries that helps generating these patterns in Python.\n",
    "\n",
    "- [ImaGen](https://tinyurl.com/yyx2dt3l): Developed by HoloViz team <3. Recommended.\n",
    "- [psychology](https://tinyurl.com/y36crpee)"
   ]
  },
  {
   "cell_type": "code",
   "execution_count": null,
   "metadata": {
    "Collapsed": "false"
   },
   "outputs": [],
   "source": [
    "import imagen as ig\n"
   ]
  },
  {
   "cell_type": "code",
   "execution_count": null,
   "metadata": {
    "Collapsed": "false"
   },
   "outputs": [],
   "source": [
    "np.set_printoptions(precision=4)"
   ]
  },
  {
   "cell_type": "code",
   "execution_count": null,
   "metadata": {
    "Collapsed": "false"
   },
   "outputs": [],
   "source": [
    "line_gen = ig.Line(xdensity=5, ydensity=5, smoothing=0)\n",
    "l1 = line_gen().astype(np.float32)\n",
    "l2 = line_gen(smoothing=0.1,orientation=0.8,thickness=0.4).astype(np.float32)\n",
    "\n",
    "# Gabor pattern (256x256)\n",
    "gabor_gen = ig.Gabor()\n",
    "gabor = gabor_gen().astype(np.float32)"
   ]
  },
  {
   "cell_type": "code",
   "execution_count": null,
   "metadata": {
    "Collapsed": "false"
   },
   "outputs": [],
   "source": [
    "from functools import partial"
   ]
  },
  {
   "cell_type": "code",
   "execution_count": null,
   "metadata": {
    "Collapsed": "false"
   },
   "outputs": [],
   "source": [
    "cvdft = partial(cv2.dft, flags=cv2.DFT_COMPLEX_OUTPUT)\n",
    "dft = cvdft(l1) # channel_0 encodes real part, channel_1 encodes complex part\n",
    "dft_shift = np.fft.fftshift(dft)\n",
    "\n",
    "mag = cv2.magnitude(dft_shift[:,:,0], dft_shift[:,:,1])"
   ]
  },
  {
   "cell_type": "code",
   "execution_count": null,
   "metadata": {
    "Collapsed": "false"
   },
   "outputs": [],
   "source": [
    "%opts Image [colorbar=True]"
   ]
  },
  {
   "cell_type": "code",
   "execution_count": null,
   "metadata": {
    "Collapsed": "false"
   },
   "outputs": [],
   "source": [
    "hv.Image(l1) + hv.Image(np.log(mag+1))"
   ]
  },
  {
   "cell_type": "code",
   "execution_count": null,
   "metadata": {
    "Collapsed": "false"
   },
   "outputs": [],
   "source": [
    "gabor.dtype"
   ]
  },
  {
   "cell_type": "code",
   "execution_count": null,
   "metadata": {
    "Collapsed": "false"
   },
   "outputs": [],
   "source": [
    "def get_dft_mag(im32):\n",
    "    \"\"\"\n",
    "    im32: two dimensional (ie. grayscale) np.float32 dtype np.array\n",
    "    \n",
    "    Returns:\n",
    "    \n",
    "    \"\"\"\n",
    "    assert im32.dtype == np.float32, \"input image must be grayscale, np.float32\" # todo better checking\n",
    "    dft = cvdft(im32)\n",
    "    dft_shift = np.fft.fftshift(dft)\n",
    "    mag = cv2.magnitude(dft_shift[:,:,0], dft_shift[:,:,1])\n",
    "    return mag\n",
    "\n",
    "def show_dft_mag(im32, log_scale=True):\n",
    "    mag = get_dft_mag(im32)\n",
    "    if log_scale:\n",
    "        mag = np.log2(mag+1)\n",
    "        \n",
    "        \n",
    "    return hv.Image(mag)\n",
    "\n",
    "\n",
    " "
   ]
  },
  {
   "cell_type": "code",
   "execution_count": null,
   "metadata": {
    "Collapsed": "false"
   },
   "outputs": [],
   "source": [
    "hv.extension('bokeh')   "
   ]
  },
  {
   "cell_type": "code",
   "execution_count": null,
   "metadata": {
    "Collapsed": "false"
   },
   "outputs": [],
   "source": [
    "%%opts Image [shared_axes=False, colorbar=True] {+framewise}\n",
    "(\n",
    "    hv.Image(gabor).opts(axiswise=True) + show_dft_mag(gabor)  + show_dft_mag(gabor, log_scale=False)\n",
    ")"
   ]
  },
  {
   "cell_type": "code",
   "execution_count": null,
   "metadata": {
    "Collapsed": "false"
   },
   "outputs": [],
   "source": [
    "type(l)"
   ]
  },
  {
   "cell_type": "code",
   "execution_count": null,
   "metadata": {
    "Collapsed": "false"
   },
   "outputs": [],
   "source": [
    "# hv.help(hv.Image)"
   ]
  },
  {
   "cell_type": "code",
   "execution_count": null,
   "metadata": {
    "Collapsed": "false"
   },
   "outputs": [],
   "source": [
    "def"
   ]
  },
  {
   "cell_type": "code",
   "execution_count": null,
   "metadata": {
    "Collapsed": "false"
   },
   "outputs": [],
   "source": []
  },
  {
   "cell_type": "code",
   "execution_count": null,
   "metadata": {
    "Collapsed": "false"
   },
   "outputs": [],
   "source": []
  },
  {
   "cell_type": "code",
   "execution_count": null,
   "metadata": {
    "Collapsed": "false"
   },
   "outputs": [],
   "source": []
  },
  {
   "cell_type": "code",
   "execution_count": null,
   "metadata": {
    "Collapsed": "false"
   },
   "outputs": [],
   "source": []
  },
  {
   "cell_type": "markdown",
   "metadata": {
    "Collapsed": "false"
   },
   "source": [
    "---\n",
    "Other helpful resources:\n",
    "- [Multivariate Gaussian](https://peterroelants.github.io/posts/multivariate-normal-primer/)\n",
    "- [Wiki](#)"
   ]
  },
  {
   "cell_type": "code",
   "execution_count": null,
   "metadata": {
    "Collapsed": "false"
   },
   "outputs": [],
   "source": []
  }
 ],
 "metadata": {
  "kernelspec": {
   "display_name": "Python [conda env:earthml]",
   "language": "python",
   "name": "conda-env-earthml-py"
  },
  "language_info": {
   "codemirror_mode": {
    "name": "ipython",
    "version": 3
   },
   "file_extension": ".py",
   "mimetype": "text/x-python",
   "name": "python",
   "nbconvert_exporter": "python",
   "pygments_lexer": "ipython3",
   "version": "3.7.3"
  }
 },
 "nbformat": 4,
 "nbformat_minor": 4
}
