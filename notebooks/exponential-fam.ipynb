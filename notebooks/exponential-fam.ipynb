{
 "cells": [
  {
   "cell_type": "markdown",
   "metadata": {
    "Collapsed": "false"
   },
   "source": [
    "# Exponential Family\n"
   ]
  },
  {
   "cell_type": "markdown",
   "metadata": {
    "Collapsed": "false"
   },
   "source": [
    "## Ex1: Exponential distribution\n",
    "Given $\\theta > 0$,  $p_{\\theta}(x) =\\theta e^{-\\theta x}$  for $x \\in \\mathbb{R^1}$, and zero otherwise.\n",
    "In other words, \n",
    "$ p_{\\theta}(x) =\\theta e^{-\\theta x} \\cdot \\mathbb{1}(x \\ge 0) $\n",
    "\n",
    "This can be expressed in the form of the exponential family as following:\n",
    "\n",
    "\n"
   ]
  },
  {
   "cell_type": "code",
   "execution_count": null,
   "metadata": {
    "Collapsed": "false"
   },
   "outputs": [],
   "source": []
  }
 ],
 "metadata": {
  "kernelspec": {
   "display_name": "Python [conda env:earthml_v2]",
   "language": "python",
   "name": "conda-env-earthml_v2-py"
  },
  "language_info": {
   "codemirror_mode": {
    "name": "ipython",
    "version": 3
   },
   "file_extension": ".py",
   "mimetype": "text/x-python",
   "name": "python",
   "nbconvert_exporter": "python",
   "pygments_lexer": "ipython3",
   "version": "3.7.3"
  }
 },
 "nbformat": 4,
 "nbformat_minor": 4
}
