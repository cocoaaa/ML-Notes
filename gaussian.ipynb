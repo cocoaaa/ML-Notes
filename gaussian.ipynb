{
 "cells": [
  {
   "cell_type": "markdown",
   "metadata": {
    "Collapsed": "false"
   },
   "source": [
    "# Gaussian "
   ]
  },
  {
   "cell_type": "markdown",
   "metadata": {
    "Collapsed": "false"
   },
   "source": [
    "Modified: Oct 12, 2019\n",
    "\n",
    "This is a small note on how I think of Gaussian distribution, $N(\\mu, \\sigma)$"
   ]
  },
  {
   "cell_type": "markdown",
   "metadata": {
    "Collapsed": "true"
   },
   "source": [
    "## Load libraries"
   ]
  },
  {
   "cell_type": "code",
   "execution_count": null,
   "metadata": {
    "Collapsed": "false"
   },
   "outputs": [],
   "source": [
    "%load_ext autoreload\n",
    "%autoreload 2\n",
    "\n",
    "import os, sys, time\n",
    "import numpy as np\n",
    "import pandas as pd\n",
    "    \n",
    "from pathlib import Path #we'll import Path object with `.ls` method added later\n",
    "from pprint import pprint as pp\n",
    "\n",
    "import pdb\n",
    "\n",
    "import matplotlib.pyplot as plt\n",
    "%matplotlib inline\n",
    "\n",
    "# ignore warnings\n",
    "import warnings\n",
    "if not sys.warnoptions:\n",
    "    warnings.simplefilter('ignore')\n",
    "    \n",
    "# Don't generate bytecode\n",
    "sys.dont_write_bytecode = True"
   ]
  },
  {
   "cell_type": "code",
   "execution_count": null,
   "metadata": {
    "Collapsed": "false"
   },
   "outputs": [],
   "source": [
    "import holoviews as hv\n",
    "import xarray as xr\n",
    "\n",
    "from holoviews import opts\n",
    "from holoviews.operation.datashader import datashade, shade, dynspread, rasterize\n",
    "from holoviews.streams import Stream, param\n",
    "from holoviews import streams\n",
    "import geoviews as gv\n",
    "import geoviews.feature as gf\n",
    "from geoviews import tile_sources as gvts\n",
    "\n",
    "\n",
    "# import geopandas as gpd\n",
    "import cartopy.crs as ccrs\n",
    "import cartopy.feature as cf\n",
    "\n",
    "hv.notebook_extension('bokeh')\n",
    "hv.Dimension.type_formatters[np.datetime64] = '%Y-%m-%d'\n",
    "\n",
    "# Dashboards\n",
    "import param as pm, panel as pn\n",
    "pn.extension()"
   ]
  },
  {
   "cell_type": "code",
   "execution_count": null,
   "metadata": {
    "Collapsed": "false"
   },
   "outputs": [],
   "source": [
    "# Geoviews visualization default options\n",
    "H,W, = 250,250\n",
    "opts.defaults(\n",
    "    opts.RGB(height=H, width=W, tools=['hover'], active_tools=['wheel_zoom']),\n",
    "    opts.Image(height=H, width=W, tools=['hover'], active_tools=['wheel_zoom'], framewise=True),#axiswise=True ),\n",
    "    opts.Points( tools=['hover'], active_tools=['wheel_zoom']),\n",
    "    opts.Curve( tools=['hover'], active_tools=['wheel_zoom'], padding=0.1),\n",
    "\n",
    ")"
   ]
  },
  {
   "cell_type": "markdown",
   "metadata": {
    "Collapsed": "true"
   },
   "source": [
    "## Set up additional library path"
   ]
  },
  {
   "cell_type": "code",
   "execution_count": null,
   "metadata": {
    "Collapsed": "false"
   },
   "outputs": [],
   "source": [
    "# Add the utils directory to the search path\n",
    "SP_ROOT = Path.home()/'Playground/ContextNet'\n",
    "SP_LIBS = SP_ROOT/'scripts' # to be changed to 'src'\n",
    "# LIBS_DIR = Path('../src').absolute()\n",
    "DIRS_TO_ADD = [SP_LIBS]#, LIBS_DIR]\n",
    "for p in DIRS_TO_ADD:\n",
    "    assert p.exists()\n",
    "    \n",
    "    if str(p) not in sys.path:\n",
    "        sys.path.insert(0, str(p))\n",
    "        print(f\"Added to sys.path: {p}\")\n",
    "\n",
    "# pp(sys.path)\n",
    "    "
   ]
  },
  {
   "cell_type": "code",
   "execution_count": null,
   "metadata": {
    "Collapsed": "false"
   },
   "outputs": [],
   "source": [
    "from output_helpers import print_mro as mro, nprint, Path\n",
    "import SpacenetPath as spp\n",
    "import spacenet_globals as spg\n",
    "# from output_helpers import Path #.ls method is added to Path class"
   ]
  },
  {
   "cell_type": "code",
   "execution_count": null,
   "metadata": {
    "Collapsed": "false"
   },
   "outputs": [],
   "source": [
    "import osmnx as ox\n",
    "import rasterio as rio\n",
    "from rasterio.plot import reshape_as_image\n",
    "import skimage as ski"
   ]
  },
  {
   "cell_type": "markdown",
   "metadata": {
    "Collapsed": "true"
   },
   "source": [
    "## 1. Intuition"
   ]
  },
  {
   "cell_type": "markdown",
   "metadata": {
    "Collapsed": "false"
   },
   "source": [
    "The probability density function, $f(x \\mid \\mu, \\sigma)$, of the normal distribution $N(\\mu, \\sigma)$ is:\n",
    "\n",
    "$$\n",
    "f(x \\mid \\mu, \\sigma) = \\frac{1}{Z} \\text{exp} [-\\frac{1}{2}(\\frac{x-\\mu}{\\sigma})^{2}]\n",
    "$$"
   ]
  },
  {
   "cell_type": "markdown",
   "metadata": {
    "Collapsed": "false"
   },
   "source": [
    "where $Z = \\sqrt{2\\pi\\sigma^{2}}$ is the normalization factor that makes $f$ a distribution that sums up to $1$.\n",
    "\n",
    "In this form, the purpose of $\\sigma$ and $\\mu$ becomes more explicit. \n",
    "1. $(x-mu)$: we view a difference (vector) between $\\mu$ and $x$. Let $d := x-\\mu$\n",
    "2. $ \\frac{\\lVert d \\rVert}{\\sigma}$: How big is the size of this difference vector in $\\sigma$ units?\n",
    "That is, how many $\\sigma$-sized steps do we need to take to get to $x$ from $\\mu$?\n"
   ]
  },
  {
   "cell_type": "markdown",
   "metadata": {
    "Collapsed": "false"
   },
   "source": [
    "Now, let's say, we have \"normalized\" the length of the difference vector (between $\\mu$ and a given $x$) by $\\sigma$. \n",
    "Let's call this \"normalized distance\" as $d_{\\text{normed}}$. Then, $f$ can be expressed as:\n",
    "\n",
    "$$\n",
    "f(x \\mid \\mu, \\sigma) = f(d_{\\text{normed}}) \\propto \\text{exp} [-\\frac{1}{2} d_{\\text{normed}}^{2}]\n",
    "$$\n",
    "\n",
    "<img src=\"assets/gaussian.png\" alt=\"gaussian\" width=\"800\"/>\n"
   ]
  },
  {
   "cell_type": "markdown",
   "metadata": {
    "Collapsed": "true"
   },
   "source": [
    "## 2. Visualization "
   ]
  },
  {
   "cell_type": "markdown",
   "metadata": {
    "Collapsed": "false"
   },
   "source": [
    "Let's see what this function looks like in 2Dim and 3Dim space. \n",
    "\n",
    "- First in 2Dim\n",
    "\n",
    "$f(d) = exp[-\\frac{1}{2} d^2]$\n",
    "\n",
    "Or, \n",
    "\n",
    "$$f(d) = exp[-\\frac{1}{2} d^2]$$\n",
    "where the difference vector, $\\vec{d}$, is:\n",
    "\n",
    "$$\\vec{d} = \\vec{x} - \\vec{\\mu}$$ \n",
    "\n",
    "and the normalized length of the difference vector, $d_\\text{norm}$, is:\n",
    "$$d_\\text{norm} = \\frac{\\lVert \\vec{d}\\rVert} {\\sigma}$$"
   ]
  },
  {
   "cell_type": "markdown",
   "metadata": {
    "Collapsed": "false"
   },
   "source": [
    "Using holoviews for visualization..."
   ]
  },
  {
   "cell_type": "code",
   "execution_count": null,
   "metadata": {
    "Collapsed": "false"
   },
   "outputs": [],
   "source": [
    "def draw_gaussian_2d(xmin=-5, xmax=5, n_points=100):\n",
    "    xs = np.linspace(xmin, xmax, num=n_points)\n",
    "    ys = np.exp(-0.5*xs**2)\n",
    "    overlay = (\n",
    "        hv.Curve((xs,ys)) \n",
    "        * hv.VLine(0).opts(color='black', line_width=1)\n",
    "        * hv.VLine(-4).opts(color='red', line_width=1, line_dash='dashed')\n",
    "        * hv.VLine(4).opts(color='red', line_width=1, line_dash='dashed')\n",
    "    )\n",
    "    return overlay"
   ]
  },
  {
   "cell_type": "code",
   "execution_count": null,
   "metadata": {
    "Collapsed": "false"
   },
   "outputs": [],
   "source": [
    "%%opts Curve [width=600, show_grid=True] \n",
    "draw_gaussian_2d()"
   ]
  },
  {
   "cell_type": "markdown",
   "metadata": {
    "Collapsed": "false"
   },
   "source": [
    "- 3Dim\n",
    "$$\n",
    "f(\\mathbf{x} \\mid \\mathbf{\\mu}, \\Sigma)= \\frac{1}{Z} \\text{exp}[-\\frac{1}{2} (\\mathbf{x}-\\mathbf{\\mu} )^{T} \\Sigma^{-1} (\\mathbf{x}-\\mathbf{\\mu})]\n",
    "$$\n",
    "\n",
    "where \n",
    "\n",
    "$$\n",
    "Z = \\sqrt{(2\\pi)^{m} \\det(\\Sigma)}\n",
    "$$\n",
    "for $\\mathbf{x} \\in R^{m}$"
   ]
  },
  {
   "cell_type": "code",
   "execution_count": null,
   "metadata": {
    "Collapsed": "false"
   },
   "outputs": [],
   "source": [
    "def multivariate_gaussian(xs, mu, cov):\n",
    "    \"\"\"\n",
    "    Vectorized version of multivariate_gaussian pmf\n",
    "    This has a computational advantage of computing determinate of the covariance \n",
    "    matrix only once for multiple x points, in addition to a vectorized linalg.solve\n",
    "    operation\n",
    "    \n",
    "    Args:\n",
    "    - xs (np.array): a 2Dim array whose column is a vector of indivisual x in R^m \n",
    "    to compute the gaussian. For example, if x is a two dimensional vector, \n",
    "    `xs.shape` should be (2, num_xs)\n",
    "    \n",
    "    - mu (np.array): 1 dim array for a mu vector\n",
    "    - cov (np.array): m by m matrix where m = dimension of x (ie. xs.shape[0])\n",
    "    \"\"\"\n",
    "    assert xs.ndim == 2, \"xs must be a two dimensional collection of column vectors\"\n",
    "    assert mu.ndim == 2, \"mu must be two dimensional\"\n",
    "    assert mu.shape[1] == 1, \"mu must be a column vector, ie.shape of (m,1) where m is the data dimension\"\n",
    "\n",
    "    det = np.linalg.det(cov)\n",
    "    xs_m = xs - mu\n",
    "#     print(xs-mu)\n",
    "#     print(xs_m)\n",
    "    Z = np.sqrt(2*np.pi*det)\n",
    "#     energy = (x_m.T).dot(np.linalg.inv(cov)).dot(x_m)\n",
    "    xsTcinv =  (np.linalg.solve(cov, xs_m)).T\n",
    "#     print('xsTcinv shape: ', xsTcinv.shape)\n",
    "    xs_m = xs_m.T\n",
    "#     print('xs_m transposed: ', xs_m.shape)\n",
    "    energies = np.array([xTcinv.dot(x_m) for (xTcinv,x_m) in zip(xsTcinv, xs_m)])\n",
    "    return np.exp(-.5*energies)/Z\n",
    "    "
   ]
  },
  {
   "cell_type": "code",
   "execution_count": null,
   "metadata": {
    "Collapsed": "false"
   },
   "outputs": [],
   "source": [
    "#Simple tests\n",
    "# x = np.array([0,0]).reshape((-1,1))\n",
    "x = np.array([[0,0], [1,0]]).T\n",
    "\n",
    "mu = np.array([0,0]).reshape((-1,1)) #column vector\n",
    "cov = np.array([[1,0],[0,1]])\n",
    "multivariate_gaussian(x, mu, cov)"
   ]
  },
  {
   "cell_type": "code",
   "execution_count": null,
   "metadata": {
    "Collapsed": "false"
   },
   "outputs": [],
   "source": [
    "def draw_gaussian_3d(xmin, xmax, nx, ymin, ymax, ny, mu, cov):\n",
    "    xx, yy = np.meshgrid(np.linspace(xmin, xmax, nx), np.linspace(ymin, ymax, ny))\n",
    "    points = np.array([ list(xx.flat), list(yy.flat)]) # each column contains a point(ie. (x1,x2))\n",
    "    heights = multivariate_gaussian(points, mu, cov)\n",
    "    surface = hv.Surface(heights.reshape((nx, ny)), bounds=(xmin, ymin, xmax, ymax)) #slow\n",
    "#     surface = hv.Surface((xx.flat, yy.flat, heights)) #slow\n",
    "\n",
    "#     surface = hv.TriSurface((xx.flat, yy.flat, heights)) #with plotly backend\n",
    "\n",
    "    \n",
    "    return surface"
   ]
  },
  {
   "cell_type": "code",
   "execution_count": null,
   "metadata": {
    "Collapsed": "false"
   },
   "outputs": [],
   "source": [
    "hv.extension('plotly') # currently bokeh backend doesn't support 3D plot with holoviews objects\n",
    "\n",
    "xmin, xmax, nx = -5, 5, 50\n",
    "ymin, ymax, ny = -5, 5, 50\n",
    "\n",
    "mu = np.array([0,0]).reshape((-1,1)) #column vector with two dims\n",
    "cov0 = np.array([[1,0],[0,1]])\n",
    "cov1 = np.array([[1,0], [0,2]])\n",
    "cov2 = np.array([[2,0],[0,2]])\n",
    "\n",
    "surf0 = draw_gaussian_3d(xmin, xmax, nx, ymin, ymax, ny, mu, cov0)\n",
    "surf1 = draw_gaussian_3d(xmin, xmax, nx, ymin, ymax, ny, mu, cov1)\n",
    "surf2 = draw_gaussian_3d(xmin, xmax, nx, ymin, ymax, ny, mu, cov2)"
   ]
  },
  {
   "cell_type": "code",
   "execution_count": null,
   "metadata": {
    "Collapsed": "false"
   },
   "outputs": [],
   "source": [
    "%%opts TriSurface [colorbar=True, width=400, height=400] (alpha=0.5) Surface [colorbar=True, width=400, height=400] (alpha=0.5)\n",
    "\n",
    "(\n",
    "    surf0.relabel(group='cov:[[1,0],[0,1]]').opts(cmap='Blues')\n",
    "    * surf1.relabel(group='cov:[[1,0],[0,2]]').opts(cmap='Reds')\n",
    "    * surf2.relabel(group='cov:[[2,0],[0,2]]')\n",
    ")"
   ]
  },
  {
   "cell_type": "code",
   "execution_count": null,
   "metadata": {
    "Collapsed": "false"
   },
   "outputs": [],
   "source": [
    "def draw_g3d(mu_x, mu_y, sig_x, sig_y, sig_xy):\n",
    "    mu = np.array([mu_x, mu_y]).reshape((-1,1))\n",
    "    cov = np.array([[sig_x**2,sig_xy],\n",
    "                    [sig_xy, sig_y**2]])\n",
    "    return draw_gaussian_3d(xmin, xmax, nx,\n",
    "                            ymin, ymax, ny,\n",
    "                            mu, cov)"
   ]
  },
  {
   "cell_type": "code",
   "execution_count": null,
   "metadata": {
    "Collapsed": "false"
   },
   "outputs": [],
   "source": [
    "dmap_3d = hv.DynamicMap(draw_g3d, kdims=['mu_x', 'mu_y', 'sig_x', 'sig_y', 'sig_xy'])\n"
   ]
  },
  {
   "cell_type": "code",
   "execution_count": null,
   "metadata": {
    "Collapsed": "false"
   },
   "outputs": [],
   "source": [
    "%%opts Surface [colorbar=True, width=800, height=800] (alpha=0.9)\n",
    "\n",
    "dmap_3d.redim.values(mu_x=range(-2,2),\n",
    "                     mu_y=range(-2,2), \n",
    "                     sig_x=np.linspace(0.3, 3.0, 10),\n",
    "                     sig_y=np.linspace(0.3, 3.0, 10), \n",
    "                     sig_xy=[0.])"
   ]
  },
  {
   "cell_type": "code",
   "execution_count": null,
   "metadata": {
    "Collapsed": "false"
   },
   "outputs": [],
   "source": []
  },
  {
   "cell_type": "code",
   "execution_count": null,
   "metadata": {
    "Collapsed": "false"
   },
   "outputs": [],
   "source": []
  },
  {
   "cell_type": "code",
   "execution_count": null,
   "metadata": {
    "Collapsed": "false"
   },
   "outputs": [],
   "source": []
  },
  {
   "cell_type": "code",
   "execution_count": null,
   "metadata": {
    "Collapsed": "false"
   },
   "outputs": [],
   "source": []
  },
  {
   "cell_type": "code",
   "execution_count": null,
   "metadata": {
    "Collapsed": "false"
   },
   "outputs": [],
   "source": []
  },
  {
   "cell_type": "code",
   "execution_count": null,
   "metadata": {
    "Collapsed": "false"
   },
   "outputs": [],
   "source": []
  },
  {
   "cell_type": "markdown",
   "metadata": {
    "Collapsed": "false"
   },
   "source": [
    "---\n",
    "Other helpful resources:\n",
    "- [Multivariate Gaussian](https://peterroelants.github.io/posts/multivariate-normal-primer/)\n",
    "- [Wiki](#)"
   ]
  },
  {
   "cell_type": "code",
   "execution_count": null,
   "metadata": {
    "Collapsed": "false"
   },
   "outputs": [],
   "source": []
  }
 ],
 "metadata": {
  "kernelspec": {
   "display_name": "Python [conda env:earthml]",
   "language": "python",
   "name": "conda-env-earthml-py"
  },
  "language_info": {
   "codemirror_mode": {
    "name": "ipython",
    "version": 3
   },
   "file_extension": ".py",
   "mimetype": "text/x-python",
   "name": "python",
   "nbconvert_exporter": "python",
   "pygments_lexer": "ipython3",
   "version": "3.7.3"
  }
 },
 "nbformat": 4,
 "nbformat_minor": 4
}
