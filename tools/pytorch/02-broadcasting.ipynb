{
 "cells": [
  {
   "cell_type": "markdown",
   "metadata": {
    "Collapsed": "false"
   },
   "source": [
    "# Broadcasting in `numpy` and `pytorch`\n",
    "\n",
    "Example of using broadcasting to apply the same convolution filter (eg. guassian filter of size 3x3) to all channels\n"
   ]
  },
  {
   "cell_type": "markdown",
   "metadata": {
    "Collapsed": "false"
   },
   "source": [
    "## Load libraries"
   ]
  },
  {
   "cell_type": "code",
   "execution_count": null,
   "metadata": {
    "Collapsed": "false"
   },
   "outputs": [],
   "source": [
    "%reload_ext autoreload\n",
    "%autoreload 2\n",
    "%matplotlib inline"
   ]
  },
  {
   "cell_type": "code",
   "execution_count": null,
   "metadata": {
    "Collapsed": "false"
   },
   "outputs": [],
   "source": [
    "import os,sys\n",
    "import re\n",
    "\n",
    "sys.dont_write_bytecode = True"
   ]
  },
  {
   "cell_type": "code",
   "execution_count": null,
   "metadata": {
    "Collapsed": "false"
   },
   "outputs": [],
   "source": [
    "import pandas as pd\n",
    "# import geopandas as gpd\n",
    "import joblib\n",
    "\n",
    "import numpy as np\n",
    "import matplotlib.pyplot as plt\n",
    "import cv2\n",
    "\n",
    "from pprint import pprint\n",
    "from pathlib import Path\n",
    "\n",
    "import pdb"
   ]
  },
  {
   "cell_type": "code",
   "execution_count": null,
   "metadata": {
    "Collapsed": "false"
   },
   "outputs": [],
   "source": [
    "import holoviews as hv\n",
    "import xarray as xr\n",
    "\n",
    "from holoviews import opts\n",
    "from holoviews.operation.datashader import datashade, shade, dynspread, rasterize\n",
    "from holoviews.streams import Stream, param\n",
    "from holoviews import streams\n",
    "import geoviews as gv\n",
    "import geoviews.feature as gf\n",
    "from geoviews import tile_sources as gvts\n",
    "\n",
    "\n",
    "# import geopandas as gpd\n",
    "import cartopy.crs as ccrs\n",
    "import cartopy.feature as cf\n",
    "\n",
    "hv.notebook_extension('bokeh')\n",
    "hv.Dimension.type_formatters[np.datetime64] = '%Y-%m-%d'\n",
    "\n",
    "# Dashboards\n",
    "import param as pm, panel as pn\n",
    "pn.extension()"
   ]
  },
  {
   "cell_type": "code",
   "execution_count": null,
   "metadata": {
    "Collapsed": "false"
   },
   "outputs": [],
   "source": [
    "# Geoviews visualization default options\n",
    "H,W, = 250,250\n",
    "opts.defaults(\n",
    "    opts.RGB(height=H, width=W, tools=['hover'], active_tools=['wheel_zoom']),\n",
    "    opts.Image(height=H, width=W, tools=['hover'], active_tools=['wheel_zoom'], framewise=True),#axiswise=True ),\n",
    "    opts.Points( tools=['hover'], active_tools=['wheel_zoom']),\n",
    "    opts.Curve( tools=['hover'], active_tools=['wheel_zoom'], padding=0.1),\n",
    "\n",
    ")"
   ]
  },
  {
   "cell_type": "code",
   "execution_count": null,
   "metadata": {
    "Collapsed": "false"
   },
   "outputs": [],
   "source": [
    "this_nb_path = Path(os.getcwd())\n",
    "ROOT = this_nb_path.parent\n",
    "SCRIPTS = ROOT/'codes'\n",
    "paths2add = [this_nb_path, SCRIPTS]\n",
    "\n",
    "print(\"Project root: \", str(ROOT))\n",
    "print(\"this nb path: \", str(this_nb_path))\n",
    "print('Scripts folder: ', str(SCRIPTS))\n",
    "\n",
    "for p in paths2add:\n",
    "    if str(p) not in sys.path:\n",
    "        sys.path.insert(0, str(p))\n",
    "        print(str(p), \"added to the path\\n\")\n",
    "        \n",
    "# print(sys.path)"
   ]
  },
  {
   "cell_type": "code",
   "execution_count": null,
   "metadata": {
    "Collapsed": "false"
   },
   "outputs": [],
   "source": [
    "import ipywidgets\n",
    "from ipywidgets import interact\n",
    "def f(x):\n",
    "    return x\n",
    "\n",
    "interact(f, x=10)"
   ]
  },
  {
   "cell_type": "code",
   "execution_count": null,
   "metadata": {
    "Collapsed": "false"
   },
   "outputs": [],
   "source": [
    "import torch \n",
    "import torch.nn as nn\n",
    "import torch.nn.functional as F\n",
    "import torch.optim as optim\n",
    "\n",
    "from torch.utils.data import Dataset, DataLoader\n",
    "from torchvision import transforms, utils"
   ]
  },
  {
   "cell_type": "markdown",
   "metadata": {
    "Collapsed": "false"
   },
   "source": [
    "## Tile n-dim array to (n+1) dim\n",
    "Use `np.broadcast_to(arr, (n_times, *arr.shape))` for tiling arr n_times in the first new-axis dimension\n",
    "\n",
    "- Ref.\n",
    "    - https://stackoverflow.com/a/54269982"
   ]
  },
  {
   "cell_type": "code",
   "execution_count": null,
   "metadata": {
    "Collapsed": "false"
   },
   "outputs": [],
   "source": [
    "def prepend_dim(t, n_times=1, in_place=False):\n",
    "    \"\"\"\n",
    "    Prepend dimension (of size=1) to the input tensor `t`'s dimension\n",
    "    n_times\n",
    "    \"\"\"\n",
    "    if in_place:\n",
    "        _t = torch.empty_like(t)\n",
    "        _t.copy_(t)\n",
    "    else: \n",
    "        _t = t\n",
    "        \n",
    "    for i in range(n_times):\n",
    "        _t.unsqueeze_(dim=0)\n",
    "    return _t"
   ]
  },
  {
   "cell_type": "code",
   "execution_count": null,
   "metadata": {
    "Collapsed": "false"
   },
   "outputs": [],
   "source": [
    "import imagen as ig"
   ]
  },
  {
   "cell_type": "markdown",
   "metadata": {
    "Collapsed": "false"
   },
   "source": [
    "## Generate filters"
   ]
  },
  {
   "cell_type": "code",
   "execution_count": null,
   "metadata": {
    "Collapsed": "false"
   },
   "outputs": [],
   "source": [
    "gen_sine = ig.SineGrating()\n",
    "gen_hp = ig.HalfPlane()\n",
    "\n",
    "hp_np = gen_hp()\n",
    "sg_np = gen_sine()"
   ]
  },
  {
   "cell_type": "code",
   "execution_count": null,
   "metadata": {
    "Collapsed": "false"
   },
   "outputs": [],
   "source": [
    "hp_t = torch.from_numpy(hp_np).float()\n",
    "sg_t = torch.from_numpy(sg_np).float()\n",
    "zeros_t = torch.zeros_like(hp_t)\n",
    "sg_3d = torch.stack([hp_t.t(),zeros_t, zeros_t])# hp_t, sg_t])\n",
    "print(sg_3d.shape)"
   ]
  },
  {
   "cell_type": "code",
   "execution_count": null,
   "metadata": {
    "Collapsed": "false"
   },
   "outputs": [],
   "source": [
    "sg_batch = prepend_dim(sg_3d, n_times=1)\n",
    "sg_batch.shape"
   ]
  },
  {
   "cell_type": "code",
   "execution_count": null,
   "metadata": {
    "Collapsed": "false"
   },
   "outputs": [],
   "source": [
    "# 2dimensional kernel for x directional gradient that will be applied to each clannel\n",
    "kx = np.array(\n",
    "    [[-1,0,1],[-1,0,1],[-1,0,1]],\n",
    "    dtype=np.float32)\n",
    "ky = kx.T"
   ]
  },
  {
   "cell_type": "markdown",
   "metadata": {
    "Collapsed": "false"
   },
   "source": [
    "### Efficient way to create a 1-dim higher tile by repeating an array"
   ]
  },
  {
   "cell_type": "code",
   "execution_count": null,
   "metadata": {
    "Collapsed": "false"
   },
   "outputs": [],
   "source": [
    "kx_3d = np.broadcast_to(kx, (3, *kx.shape))\n",
    "ky_3d = np.broadcast_to(ky, (3, *ky.shape))"
   ]
  },
  {
   "cell_type": "code",
   "execution_count": null,
   "metadata": {
    "Collapsed": "false"
   },
   "outputs": [],
   "source": [
    "k1 = torch.from_numpy(kx_3d)\n",
    "k2 = torch.from_numpy(ky_3d)\n",
    "k = torch.stack([k1,k2])\n",
    "k.shape\n"
   ]
  },
  {
   "cell_type": "markdown",
   "metadata": {
    "Collapsed": "false"
   },
   "source": [
    "Using `view` with `np.broadcast_to` this way is more memory, computation(no copying) efficient than, eg:\n",
    "```python\n",
    "# Wasteful \n",
    "grad_x = [[-1,0,1], [-1,0,1], [-1,0,1]]\n",
    "grad_x = np.asarray(grad_x, dtype=np.float32)\n",
    "grad_y = grad_x.T\n",
    "rgb_grad_x = np.stack([grad_x, grad_x, grad_x])\n",
    "rgb_grad_y = np.stack([grad_y, grad_y, grad_y])\n",
    "rgb_filters = np.stack([rgb_grad_x, rgb_grad_y])\n",
    "\n",
    "conv.weight.data = torch.from_numpy(rgb_filters.astype(np.float32) )\n",
    "print(conv.weight.data.shape)\n",
    "\n",
    "```"
   ]
  },
  {
   "cell_type": "markdown",
   "metadata": {
    "Collapsed": "false"
   },
   "source": [
    "### Convolutional layer"
   ]
  },
  {
   "cell_type": "code",
   "execution_count": null,
   "metadata": {
    "Collapsed": "false"
   },
   "outputs": [],
   "source": [
    "conv = nn.Conv2d(in_channels=3, out_channels=2, kernel_size=3, padding=1)\n",
    "# Note: conv.weight.shape = (out_channels, in_channels, kernel_size, kernel_size)"
   ]
  },
  {
   "cell_type": "code",
   "execution_count": null,
   "metadata": {
    "Collapsed": "false"
   },
   "outputs": [],
   "source": [
    "conv.weight.data = k"
   ]
  },
  {
   "cell_type": "code",
   "execution_count": null,
   "metadata": {
    "Collapsed": "false"
   },
   "outputs": [],
   "source": [
    "sg_gradx = conv(sg_batch)\n",
    "sg_gradx.shape"
   ]
  },
  {
   "cell_type": "code",
   "execution_count": null,
   "metadata": {
    "Collapsed": "false"
   },
   "outputs": [],
   "source": [
    "out = sg_gradx.detach().squeeze().numpy()"
   ]
  },
  {
   "cell_type": "code",
   "execution_count": null,
   "metadata": {
    "Collapsed": "false"
   },
   "outputs": [],
   "source": [
    "%%opts Image (cmap='gray') [height=300, width=300, colorbar=True] {+axiswise}\n",
    "hv.Image(hp_np.T)+ hv.Image(out[0,:,:], label='gradx') + hv.Image(out[1,:,:], label='grady')"
   ]
  },
  {
   "cell_type": "code",
   "execution_count": null,
   "metadata": {
    "Collapsed": "false"
   },
   "outputs": [],
   "source": []
  }
 ],
 "metadata": {
  "kernelspec": {
   "display_name": "Python [conda env:earthml]",
   "language": "python",
   "name": "conda-env-earthml-py"
  },
  "language_info": {
   "codemirror_mode": {
    "name": "ipython",
    "version": 3
   },
   "file_extension": ".py",
   "mimetype": "text/x-python",
   "name": "python",
   "nbconvert_exporter": "python",
   "pygments_lexer": "ipython3",
   "version": "3.7.3"
  }
 },
 "nbformat": 4,
 "nbformat_minor": 4
}
