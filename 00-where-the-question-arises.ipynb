{
 "cells": [
  {
   "cell_type": "markdown",
   "metadata": {},
   "source": [
    "Modified: Aug 31, 2019"
   ]
  },
  {
   "cell_type": "markdown",
   "metadata": {},
   "source": [
    "# Where the story starts\n",
    "- We ask questions about variables in the world\n",
    "- What are simple examples of these questions?\n",
    "    - (unconditioned) variable\n",
    "    - variable in the context of other variables: **conditioned** setting\n",
    "- How does probability can be used as a language to express these questions in a principled way, and furthermore to answer these questions\n",
    "\n",
    "- What do we mean by a \"model\"?\n",
    "- What about \"parameters of a model?\" \n",
    "    - Motivation for \"parametrizing\" a model \n",
    "        - aka. restricting the possible \"form\" that your \"model\" can take)\n",
    "        - aka. bringing/choosing some sort of structure to your \"model\"\n",
    "    - Some examples of models and simple model parametrization (again, \"parametrization\" $\\equiv$ \"restricting a possible form that your model can take\". We call this \"restricted set of possible model\", a **family*** of model)\n",
    "\n",
    "## Keywords\n",
    "- (unconditioned) variables\n",
    "    - unsupervised setting\n",
    "- variables in context with other variables: conditioned setting\n",
    "    - supervised setting\n",
    "    - conditional probability\n",
    "- predictive probability\n",
    "    - don't bring a notion of \"time\" here though. It's not about a \"next\"/\"new\"/\"test\" case. It's about the state of your understanding of the variable of interest\n",
    "\n",
    "- model\n",
    "- parametrized model\n",
    "- a family of models\n",
    "\n",
    "- Bayesian point of view \n",
    "    - prior distribution of the parameter (of your model)\n",
    "    - posterior distribution of the parameter\n",
    "    \n",
    "- Learning \n",
    "    - $\\equiv$ choosing a \"good\" parameter for your pararmetrized model\n",
    "- Possible principles to guide your learning process\n",
    "    - Principle of maximizing the likelihood of seeing/generating your observed data given your model: Maximum-Likelihood\n",
    "    - Principle of maximizing the likelihood of seeing/generating your observed data given your model with prior knowledge: Maximum a Posteriori (MAP) - Bayesian approach\n",
    "    - Any other principles ...?\n",
    "    "
   ]
  },
  {
   "cell_type": "markdown",
   "metadata": {},
   "source": [
    "## Coming up\n",
    "- (unconditioned) variable: aka. standalone variable\n",
    "    - choose a parametrized model (aka. choose a family of model, aka. choose a structure of your model)\n",
    "    - if you take a Bayesian approach, you need to make two choices\n",
    "        - one for the generating process of your variable of interest (here 'unconditioned' variable): $P(X \\vert \\theta)$\n",
    "        - another for the distribution over $\\theta$: $\\theta$\n",
    "        - **Conjugate** priors: a pair of these two model families that makes your life easier\n",
    "            - Beta-Bernoulli model: when your variable of interest is binary (aka. either 0 or 1)\n",
    "            - Dirichlet-Categorical model: when your variable of interest is multi-nominal (aka. its value comes from a set bigger than of size 2)\n",
    "            \n",
    "- Variable in context with other variables \n",
    "    - Simple examples\n",
    "        - Naive Bayes classifier for SPAM VS. HAM\n",
    "        - Slightly extended version of Naive Bayes\n",
    "        - Bayesian Naive Bayes\n",
    "    - Log-linear models\n",
    "        - Conditional Random Field (CRF)\n",
    "        - Examples with text\n",
    "        - Examples with images\n",
    "        - Relation to Logistic Regression\n",
    "        - Relation to Naive Bayes\n",
    "        - Relation to RNN\n",
    "        \n",
    "            "
   ]
  },
  {
   "cell_type": "code",
   "execution_count": null,
   "metadata": {},
   "outputs": [],
   "source": []
  }
 ],
 "metadata": {
  "kernelspec": {
   "display_name": "Python [conda env:earthml]",
   "language": "python",
   "name": "conda-env-earthml-py"
  },
  "language_info": {
   "codemirror_mode": {
    "name": "ipython",
    "version": 3
   },
   "file_extension": ".py",
   "mimetype": "text/x-python",
   "name": "python",
   "nbconvert_exporter": "python",
   "pygments_lexer": "ipython3",
   "version": "3.7.3"
  }
 },
 "nbformat": 4,
 "nbformat_minor": 4
}
