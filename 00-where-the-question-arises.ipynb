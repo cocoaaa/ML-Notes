{
 "cells": [
  {
   "cell_type": "markdown",
   "metadata": {},
   "source": [
    "# Where the story starts\n",
    "- We ask questions about variables in the world\n",
    "- What are simple examples of these questions?\n",
    "    - (unconditioned) variable\n",
    "    - variable in the context of other variables: **conditioned** setting\n",
    "- How does probability can be used as a language to express these questions in a principled way, and further more to answer these questions\n",
    "- "
   ]
  }
 ],
 "metadata": {
  "kernelspec": {
   "display_name": "Python [conda env:earthml]",
   "language": "python",
   "name": "conda-env-earthml-py"
  },
  "language_info": {
   "codemirror_mode": {
    "name": "ipython",
    "version": 3
   },
   "file_extension": ".py",
   "mimetype": "text/x-python",
   "name": "python",
   "nbconvert_exporter": "python",
   "pygments_lexer": "ipython3",
   "version": "3.7.3"
  }
 },
 "nbformat": 4,
 "nbformat_minor": 4
}
